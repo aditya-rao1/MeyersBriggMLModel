{
  "nbformat": 4,
  "nbformat_minor": 0,
  "metadata": {
    "colab": {
      "provenance": [],
      "authorship_tag": "ABX9TyP2Fk/4AC5uiMyZDn9mCoCe",
      "include_colab_link": true
    },
    "kernelspec": {
      "name": "python3",
      "display_name": "Python 3"
    },
    "language_info": {
      "name": "python"
    }
  },
  "cells": [
    {
      "cell_type": "markdown",
      "metadata": {
        "id": "view-in-github",
        "colab_type": "text"
      },
      "source": [
        "<a href=\"https://colab.research.google.com/github/aditya-rao1/MeyersBriggMLModel/blob/main/K_Nearest_Neighbors(Trial).ipynb\" target=\"_parent\"><img src=\"https://colab.research.google.com/assets/colab-badge.svg\" alt=\"Open In Colab\"/></a>"
      ]
    },
    {
      "cell_type": "markdown",
      "source": [
        "### Instructions/General Plan"
      ],
      "metadata": {
        "id": "mdJ0naZVxeFj"
      }
    },
    {
      "cell_type": "markdown",
      "source": [
        "Independent variable is the amount of extraversion and the output is the posture based on it.\n",
        "\n",
        "\n",
        "1. Need to replace every posture to a number based on the posture for the model to work\n",
        "2. Split our data into categories. Our case would be 4 since A, B, C, D. \n",
        "3. Next you should be able to go onto your regular steps with machie learning"
      ],
      "metadata": {
        "id": "M1eYyPLEPGsz"
      }
    },
    {
      "cell_type": "markdown",
      "source": [
        "### Imports"
      ],
      "metadata": {
        "id": "sJ4Ie2FswaAP"
      }
    },
    {
      "cell_type": "code",
      "execution_count": 1,
      "metadata": {
        "id": "Pr4IDaBC-oJu"
      },
      "outputs": [],
      "source": [
        "import pandas as pd\n",
        "import numpy as np\n",
        "from matplotlib import pyplot as plt"
      ]
    },
    {
      "cell_type": "markdown",
      "source": [
        "### Reading the Data into File"
      ],
      "metadata": {
        "id": "e0_0zEHrwe3O"
      }
    },
    {
      "cell_type": "code",
      "source": [
        "df = pd.read_csv(\"Myers Briggs Table_S1.csv\")\n",
        "df "
      ],
      "metadata": {
        "colab": {
          "base_uri": "https://localhost:8080/",
          "height": 423
        },
        "id": "XrMrstBp-3oR",
        "outputId": "aaf62201-4dd5-48aa-e698-612cef0b9250"
      },
      "execution_count": 2,
      "outputs": [
        {
          "output_type": "execute_result",
          "data": {
            "text/plain": [
              "    S No  AGE  HEIGHT  WEIGHT     SEX ACTIVITY LEVEL  PAIN 1  PAIN 2  PAIN 3  \\\n",
              "0      1   53      62     125  Female            Low     0.0     0.0     0.0   \n",
              "1      2   52      69     157    Male           High     7.0     8.0     5.0   \n",
              "2      3   30      69     200    Male           High     0.0     0.0     0.0   \n",
              "3      4   51      66     175    Male       Moderate     9.5     9.5     9.5   \n",
              "4      5   45      63     199  Female       Moderate     4.0     5.0     2.0   \n",
              "..   ...  ...     ...     ...     ...            ...     ...     ...     ...   \n",
              "92    93   16      58     100    Male       Moderate     0.0     0.0     0.0   \n",
              "93    94   45      62     134  Female       Moderate     0.0     4.0     0.0   \n",
              "94    95   43      69     188    Male       Moderate     2.0     0.0     0.0   \n",
              "95    96   28      67     180  Female            Low     0.0     0.0     0.0   \n",
              "96    97   43      69     188    Male       Moderate     4.0     0.0     0.0   \n",
              "\n",
              "    PAIN 4  MBTI   E   I   S   N   T   F   J   P POSTURE  \n",
              "0      0.0  ESFJ  18   3  17   9   9  13  18   4       A  \n",
              "1      3.0  ISTJ   6  15  14  12  21   3  13   9       B  \n",
              "2      0.0  ESTJ  15   6  16  10  15   9  12  10       A  \n",
              "3      1.5  ISTJ   6  15  21   5  13  11  19   3       D  \n",
              "4      2.0  ENFJ  14   7  20   6   9  15  16   6       A  \n",
              "..     ...   ...  ..  ..  ..  ..  ..  ..  ..  ..     ...  \n",
              "92     3.0  ESTP  19   2  22   4  19   5   2  20       B  \n",
              "93     0.0  ESFJ  11  10  17   9   6  18  13   9       B  \n",
              "94     0.0  ENFP  12   9   9  17   6  18   2  20       A  \n",
              "95     0.0  ESFJ  11  10  22  14   8  16  14   8       B  \n",
              "96     0.0  ENFP  12   9   9  17   6  18   2  20       A  \n",
              "\n",
              "[97 rows x 20 columns]"
            ],
            "text/html": [
              "\n",
              "  <div id=\"df-09a0cdcd-2c2f-4239-b715-c2c47cc05779\">\n",
              "    <div class=\"colab-df-container\">\n",
              "      <div>\n",
              "<style scoped>\n",
              "    .dataframe tbody tr th:only-of-type {\n",
              "        vertical-align: middle;\n",
              "    }\n",
              "\n",
              "    .dataframe tbody tr th {\n",
              "        vertical-align: top;\n",
              "    }\n",
              "\n",
              "    .dataframe thead th {\n",
              "        text-align: right;\n",
              "    }\n",
              "</style>\n",
              "<table border=\"1\" class=\"dataframe\">\n",
              "  <thead>\n",
              "    <tr style=\"text-align: right;\">\n",
              "      <th></th>\n",
              "      <th>S No</th>\n",
              "      <th>AGE</th>\n",
              "      <th>HEIGHT</th>\n",
              "      <th>WEIGHT</th>\n",
              "      <th>SEX</th>\n",
              "      <th>ACTIVITY LEVEL</th>\n",
              "      <th>PAIN 1</th>\n",
              "      <th>PAIN 2</th>\n",
              "      <th>PAIN 3</th>\n",
              "      <th>PAIN 4</th>\n",
              "      <th>MBTI</th>\n",
              "      <th>E</th>\n",
              "      <th>I</th>\n",
              "      <th>S</th>\n",
              "      <th>N</th>\n",
              "      <th>T</th>\n",
              "      <th>F</th>\n",
              "      <th>J</th>\n",
              "      <th>P</th>\n",
              "      <th>POSTURE</th>\n",
              "    </tr>\n",
              "  </thead>\n",
              "  <tbody>\n",
              "    <tr>\n",
              "      <th>0</th>\n",
              "      <td>1</td>\n",
              "      <td>53</td>\n",
              "      <td>62</td>\n",
              "      <td>125</td>\n",
              "      <td>Female</td>\n",
              "      <td>Low</td>\n",
              "      <td>0.0</td>\n",
              "      <td>0.0</td>\n",
              "      <td>0.0</td>\n",
              "      <td>0.0</td>\n",
              "      <td>ESFJ</td>\n",
              "      <td>18</td>\n",
              "      <td>3</td>\n",
              "      <td>17</td>\n",
              "      <td>9</td>\n",
              "      <td>9</td>\n",
              "      <td>13</td>\n",
              "      <td>18</td>\n",
              "      <td>4</td>\n",
              "      <td>A</td>\n",
              "    </tr>\n",
              "    <tr>\n",
              "      <th>1</th>\n",
              "      <td>2</td>\n",
              "      <td>52</td>\n",
              "      <td>69</td>\n",
              "      <td>157</td>\n",
              "      <td>Male</td>\n",
              "      <td>High</td>\n",
              "      <td>7.0</td>\n",
              "      <td>8.0</td>\n",
              "      <td>5.0</td>\n",
              "      <td>3.0</td>\n",
              "      <td>ISTJ</td>\n",
              "      <td>6</td>\n",
              "      <td>15</td>\n",
              "      <td>14</td>\n",
              "      <td>12</td>\n",
              "      <td>21</td>\n",
              "      <td>3</td>\n",
              "      <td>13</td>\n",
              "      <td>9</td>\n",
              "      <td>B</td>\n",
              "    </tr>\n",
              "    <tr>\n",
              "      <th>2</th>\n",
              "      <td>3</td>\n",
              "      <td>30</td>\n",
              "      <td>69</td>\n",
              "      <td>200</td>\n",
              "      <td>Male</td>\n",
              "      <td>High</td>\n",
              "      <td>0.0</td>\n",
              "      <td>0.0</td>\n",
              "      <td>0.0</td>\n",
              "      <td>0.0</td>\n",
              "      <td>ESTJ</td>\n",
              "      <td>15</td>\n",
              "      <td>6</td>\n",
              "      <td>16</td>\n",
              "      <td>10</td>\n",
              "      <td>15</td>\n",
              "      <td>9</td>\n",
              "      <td>12</td>\n",
              "      <td>10</td>\n",
              "      <td>A</td>\n",
              "    </tr>\n",
              "    <tr>\n",
              "      <th>3</th>\n",
              "      <td>4</td>\n",
              "      <td>51</td>\n",
              "      <td>66</td>\n",
              "      <td>175</td>\n",
              "      <td>Male</td>\n",
              "      <td>Moderate</td>\n",
              "      <td>9.5</td>\n",
              "      <td>9.5</td>\n",
              "      <td>9.5</td>\n",
              "      <td>1.5</td>\n",
              "      <td>ISTJ</td>\n",
              "      <td>6</td>\n",
              "      <td>15</td>\n",
              "      <td>21</td>\n",
              "      <td>5</td>\n",
              "      <td>13</td>\n",
              "      <td>11</td>\n",
              "      <td>19</td>\n",
              "      <td>3</td>\n",
              "      <td>D</td>\n",
              "    </tr>\n",
              "    <tr>\n",
              "      <th>4</th>\n",
              "      <td>5</td>\n",
              "      <td>45</td>\n",
              "      <td>63</td>\n",
              "      <td>199</td>\n",
              "      <td>Female</td>\n",
              "      <td>Moderate</td>\n",
              "      <td>4.0</td>\n",
              "      <td>5.0</td>\n",
              "      <td>2.0</td>\n",
              "      <td>2.0</td>\n",
              "      <td>ENFJ</td>\n",
              "      <td>14</td>\n",
              "      <td>7</td>\n",
              "      <td>20</td>\n",
              "      <td>6</td>\n",
              "      <td>9</td>\n",
              "      <td>15</td>\n",
              "      <td>16</td>\n",
              "      <td>6</td>\n",
              "      <td>A</td>\n",
              "    </tr>\n",
              "    <tr>\n",
              "      <th>...</th>\n",
              "      <td>...</td>\n",
              "      <td>...</td>\n",
              "      <td>...</td>\n",
              "      <td>...</td>\n",
              "      <td>...</td>\n",
              "      <td>...</td>\n",
              "      <td>...</td>\n",
              "      <td>...</td>\n",
              "      <td>...</td>\n",
              "      <td>...</td>\n",
              "      <td>...</td>\n",
              "      <td>...</td>\n",
              "      <td>...</td>\n",
              "      <td>...</td>\n",
              "      <td>...</td>\n",
              "      <td>...</td>\n",
              "      <td>...</td>\n",
              "      <td>...</td>\n",
              "      <td>...</td>\n",
              "      <td>...</td>\n",
              "    </tr>\n",
              "    <tr>\n",
              "      <th>92</th>\n",
              "      <td>93</td>\n",
              "      <td>16</td>\n",
              "      <td>58</td>\n",
              "      <td>100</td>\n",
              "      <td>Male</td>\n",
              "      <td>Moderate</td>\n",
              "      <td>0.0</td>\n",
              "      <td>0.0</td>\n",
              "      <td>0.0</td>\n",
              "      <td>3.0</td>\n",
              "      <td>ESTP</td>\n",
              "      <td>19</td>\n",
              "      <td>2</td>\n",
              "      <td>22</td>\n",
              "      <td>4</td>\n",
              "      <td>19</td>\n",
              "      <td>5</td>\n",
              "      <td>2</td>\n",
              "      <td>20</td>\n",
              "      <td>B</td>\n",
              "    </tr>\n",
              "    <tr>\n",
              "      <th>93</th>\n",
              "      <td>94</td>\n",
              "      <td>45</td>\n",
              "      <td>62</td>\n",
              "      <td>134</td>\n",
              "      <td>Female</td>\n",
              "      <td>Moderate</td>\n",
              "      <td>0.0</td>\n",
              "      <td>4.0</td>\n",
              "      <td>0.0</td>\n",
              "      <td>0.0</td>\n",
              "      <td>ESFJ</td>\n",
              "      <td>11</td>\n",
              "      <td>10</td>\n",
              "      <td>17</td>\n",
              "      <td>9</td>\n",
              "      <td>6</td>\n",
              "      <td>18</td>\n",
              "      <td>13</td>\n",
              "      <td>9</td>\n",
              "      <td>B</td>\n",
              "    </tr>\n",
              "    <tr>\n",
              "      <th>94</th>\n",
              "      <td>95</td>\n",
              "      <td>43</td>\n",
              "      <td>69</td>\n",
              "      <td>188</td>\n",
              "      <td>Male</td>\n",
              "      <td>Moderate</td>\n",
              "      <td>2.0</td>\n",
              "      <td>0.0</td>\n",
              "      <td>0.0</td>\n",
              "      <td>0.0</td>\n",
              "      <td>ENFP</td>\n",
              "      <td>12</td>\n",
              "      <td>9</td>\n",
              "      <td>9</td>\n",
              "      <td>17</td>\n",
              "      <td>6</td>\n",
              "      <td>18</td>\n",
              "      <td>2</td>\n",
              "      <td>20</td>\n",
              "      <td>A</td>\n",
              "    </tr>\n",
              "    <tr>\n",
              "      <th>95</th>\n",
              "      <td>96</td>\n",
              "      <td>28</td>\n",
              "      <td>67</td>\n",
              "      <td>180</td>\n",
              "      <td>Female</td>\n",
              "      <td>Low</td>\n",
              "      <td>0.0</td>\n",
              "      <td>0.0</td>\n",
              "      <td>0.0</td>\n",
              "      <td>0.0</td>\n",
              "      <td>ESFJ</td>\n",
              "      <td>11</td>\n",
              "      <td>10</td>\n",
              "      <td>22</td>\n",
              "      <td>14</td>\n",
              "      <td>8</td>\n",
              "      <td>16</td>\n",
              "      <td>14</td>\n",
              "      <td>8</td>\n",
              "      <td>B</td>\n",
              "    </tr>\n",
              "    <tr>\n",
              "      <th>96</th>\n",
              "      <td>97</td>\n",
              "      <td>43</td>\n",
              "      <td>69</td>\n",
              "      <td>188</td>\n",
              "      <td>Male</td>\n",
              "      <td>Moderate</td>\n",
              "      <td>4.0</td>\n",
              "      <td>0.0</td>\n",
              "      <td>0.0</td>\n",
              "      <td>0.0</td>\n",
              "      <td>ENFP</td>\n",
              "      <td>12</td>\n",
              "      <td>9</td>\n",
              "      <td>9</td>\n",
              "      <td>17</td>\n",
              "      <td>6</td>\n",
              "      <td>18</td>\n",
              "      <td>2</td>\n",
              "      <td>20</td>\n",
              "      <td>A</td>\n",
              "    </tr>\n",
              "  </tbody>\n",
              "</table>\n",
              "<p>97 rows × 20 columns</p>\n",
              "</div>\n",
              "      <button class=\"colab-df-convert\" onclick=\"convertToInteractive('df-09a0cdcd-2c2f-4239-b715-c2c47cc05779')\"\n",
              "              title=\"Convert this dataframe to an interactive table.\"\n",
              "              style=\"display:none;\">\n",
              "        \n",
              "  <svg xmlns=\"http://www.w3.org/2000/svg\" height=\"24px\"viewBox=\"0 0 24 24\"\n",
              "       width=\"24px\">\n",
              "    <path d=\"M0 0h24v24H0V0z\" fill=\"none\"/>\n",
              "    <path d=\"M18.56 5.44l.94 2.06.94-2.06 2.06-.94-2.06-.94-.94-2.06-.94 2.06-2.06.94zm-11 1L8.5 8.5l.94-2.06 2.06-.94-2.06-.94L8.5 2.5l-.94 2.06-2.06.94zm10 10l.94 2.06.94-2.06 2.06-.94-2.06-.94-.94-2.06-.94 2.06-2.06.94z\"/><path d=\"M17.41 7.96l-1.37-1.37c-.4-.4-.92-.59-1.43-.59-.52 0-1.04.2-1.43.59L10.3 9.45l-7.72 7.72c-.78.78-.78 2.05 0 2.83L4 21.41c.39.39.9.59 1.41.59.51 0 1.02-.2 1.41-.59l7.78-7.78 2.81-2.81c.8-.78.8-2.07 0-2.86zM5.41 20L4 18.59l7.72-7.72 1.47 1.35L5.41 20z\"/>\n",
              "  </svg>\n",
              "      </button>\n",
              "      \n",
              "  <style>\n",
              "    .colab-df-container {\n",
              "      display:flex;\n",
              "      flex-wrap:wrap;\n",
              "      gap: 12px;\n",
              "    }\n",
              "\n",
              "    .colab-df-convert {\n",
              "      background-color: #E8F0FE;\n",
              "      border: none;\n",
              "      border-radius: 50%;\n",
              "      cursor: pointer;\n",
              "      display: none;\n",
              "      fill: #1967D2;\n",
              "      height: 32px;\n",
              "      padding: 0 0 0 0;\n",
              "      width: 32px;\n",
              "    }\n",
              "\n",
              "    .colab-df-convert:hover {\n",
              "      background-color: #E2EBFA;\n",
              "      box-shadow: 0px 1px 2px rgba(60, 64, 67, 0.3), 0px 1px 3px 1px rgba(60, 64, 67, 0.15);\n",
              "      fill: #174EA6;\n",
              "    }\n",
              "\n",
              "    [theme=dark] .colab-df-convert {\n",
              "      background-color: #3B4455;\n",
              "      fill: #D2E3FC;\n",
              "    }\n",
              "\n",
              "    [theme=dark] .colab-df-convert:hover {\n",
              "      background-color: #434B5C;\n",
              "      box-shadow: 0px 1px 3px 1px rgba(0, 0, 0, 0.15);\n",
              "      filter: drop-shadow(0px 1px 2px rgba(0, 0, 0, 0.3));\n",
              "      fill: #FFFFFF;\n",
              "    }\n",
              "  </style>\n",
              "\n",
              "      <script>\n",
              "        const buttonEl =\n",
              "          document.querySelector('#df-09a0cdcd-2c2f-4239-b715-c2c47cc05779 button.colab-df-convert');\n",
              "        buttonEl.style.display =\n",
              "          google.colab.kernel.accessAllowed ? 'block' : 'none';\n",
              "\n",
              "        async function convertToInteractive(key) {\n",
              "          const element = document.querySelector('#df-09a0cdcd-2c2f-4239-b715-c2c47cc05779');\n",
              "          const dataTable =\n",
              "            await google.colab.kernel.invokeFunction('convertToInteractive',\n",
              "                                                     [key], {});\n",
              "          if (!dataTable) return;\n",
              "\n",
              "          const docLinkHtml = 'Like what you see? Visit the ' +\n",
              "            '<a target=\"_blank\" href=https://colab.research.google.com/notebooks/data_table.ipynb>data table notebook</a>'\n",
              "            + ' to learn more about interactive tables.';\n",
              "          element.innerHTML = '';\n",
              "          dataTable['output_type'] = 'display_data';\n",
              "          await google.colab.output.renderOutput(dataTable, element);\n",
              "          const docLink = document.createElement('div');\n",
              "          docLink.innerHTML = docLinkHtml;\n",
              "          element.appendChild(docLink);\n",
              "        }\n",
              "      </script>\n",
              "    </div>\n",
              "  </div>\n",
              "  "
            ]
          },
          "metadata": {},
          "execution_count": 2
        }
      ]
    },
    {
      "cell_type": "markdown",
      "source": [
        "Any duplicates?"
      ],
      "metadata": {
        "id": "9YxY-s6H0-0_"
      }
    },
    {
      "cell_type": "code",
      "source": [
        "print(df.duplicated())"
      ],
      "metadata": {
        "id": "vPj6LLPPEJdD",
        "colab": {
          "base_uri": "https://localhost:8080/"
        },
        "outputId": "78b36f2c-0165-430e-ee78-facfd8bed96f"
      },
      "execution_count": 3,
      "outputs": [
        {
          "output_type": "stream",
          "name": "stdout",
          "text": [
            "0     False\n",
            "1     False\n",
            "2     False\n",
            "3     False\n",
            "4     False\n",
            "      ...  \n",
            "92    False\n",
            "93    False\n",
            "94    False\n",
            "95    False\n",
            "96    False\n",
            "Length: 97, dtype: bool\n"
          ]
        }
      ]
    },
    {
      "cell_type": "markdown",
      "source": [
        "### Preparing Data "
      ],
      "metadata": {
        "id": "LX7v6mUbwlGF"
      }
    },
    {
      "cell_type": "markdown",
      "source": [
        "1 is for female. 2 is for male.\n",
        "\n"
      ],
      "metadata": {
        "id": "F8Kn_zzXTLAw"
      }
    },
    {
      "cell_type": "code",
      "source": [
        "df['SEX'] = df['SEX'].replace('Female', 1)\n",
        "df['SEX'] = df['SEX'].replace('Male', 2)\n",
        "df['SEX'].head()"
      ],
      "metadata": {
        "colab": {
          "base_uri": "https://localhost:8080/"
        },
        "id": "ig2oYYLyTM4o",
        "outputId": "fa0fa77d-88ce-4505-b5c2-3b57b30fba42"
      },
      "execution_count": 4,
      "outputs": [
        {
          "output_type": "execute_result",
          "data": {
            "text/plain": [
              "0    1\n",
              "1    2\n",
              "2    2\n",
              "3    2\n",
              "4    1\n",
              "Name: SEX, dtype: int64"
            ]
          },
          "metadata": {},
          "execution_count": 4
        }
      ]
    },
    {
      "cell_type": "markdown",
      "source": [
        "1 is for low activity. 2 is for moderate activity. 3 is for high activity."
      ],
      "metadata": {
        "id": "n3_uMJRmU3Uh"
      }
    },
    {
      "cell_type": "code",
      "source": [
        "df['ACTIVITY LEVEL'] = df['ACTIVITY LEVEL'].replace('Low', 1)\n",
        "df['ACTIVITY LEVEL'] = df['ACTIVITY LEVEL'].replace('Moderate', 2)\n",
        "df['ACTIVITY LEVEL'] = df['ACTIVITY LEVEL'].replace('High', 3)\n",
        "df['ACTIVITY LEVEL'].head()"
      ],
      "metadata": {
        "colab": {
          "base_uri": "https://localhost:8080/"
        },
        "id": "Jf3cAOa_VV6p",
        "outputId": "2ae34bf1-b1f1-4174-95f5-89ec7620b21f"
      },
      "execution_count": 5,
      "outputs": [
        {
          "output_type": "execute_result",
          "data": {
            "text/plain": [
              "0    1\n",
              "1    3\n",
              "2    3\n",
              "3    2\n",
              "4    2\n",
              "Name: ACTIVITY LEVEL, dtype: int64"
            ]
          },
          "metadata": {},
          "execution_count": 5
        }
      ]
    },
    {
      "cell_type": "markdown",
      "source": [
        "1 is for A. 2 is for B. 3 is for C. 4 is for D.\n",
        "\n",
        "\n",
        "\n"
      ],
      "metadata": {
        "id": "tocOE7cDTDvZ"
      }
    },
    {
      "cell_type": "code",
      "source": [
        "df['POSTURE'] = df['POSTURE'].replace('A', 1)\n",
        "df['POSTURE'] = df['POSTURE'].replace('B', 2)\n",
        "df['POSTURE'] = df['POSTURE'].replace('C', 3)\n",
        "df['POSTURE'] = df['POSTURE'].replace('D', 4)\n",
        "df['POSTURE'].head()"
      ],
      "metadata": {
        "colab": {
          "base_uri": "https://localhost:8080/"
        },
        "id": "hfCrVcIgOXa7",
        "outputId": "34bcded6-b2c9-4d54-e2d0-aa064cb24182"
      },
      "execution_count": 6,
      "outputs": [
        {
          "output_type": "execute_result",
          "data": {
            "text/plain": [
              "0    1\n",
              "1    2\n",
              "2    1\n",
              "3    4\n",
              "4    1\n",
              "Name: POSTURE, dtype: int64"
            ]
          },
          "metadata": {},
          "execution_count": 6
        }
      ]
    },
    {
      "cell_type": "code",
      "source": [
        "df['MBTI'] = df['MBTI'].replace('ESTJ', 1)\n",
        "df['MBTI'] = df['MBTI'].replace('ENTJ', 2)\n",
        "df['MBTI'] = df['MBTI'].replace('ESFJ', 3)\n",
        "df['MBTI'] = df['MBTI'].replace('ENFJ', 4)\n",
        "df['MBTI'] = df['MBTI'].replace('ISTJ', 5)\n",
        "df['MBTI'] = df['MBTI'].replace('ISFJ', 6)\n",
        "df['MBTI'] = df['MBTI'].replace('INTJ', 7)\n",
        "df['MBTI'] = df['MBTI'].replace('INFJ', 8)\n",
        "df['MBTI'] = df['MBTI'].replace('ESTP', 9)\n",
        "df['MBTI'] = df['MBTI'].replace('ESFP', 10)\n",
        "df['MBTI'] = df['MBTI'].replace('ENTP', 11)\n",
        "df['MBTI'] = df['MBTI'].replace('ENFP', 12)\n",
        "df['MBTI'] = df['MBTI'].replace('ISTP', 13)\n",
        "df['MBTI'] = df['MBTI'].replace('ISFP', 14)\n",
        "df['MBTI'] = df['MBTI'].replace('INTP', 15)\n",
        "df['MBTI'] = df['MBTI'].replace('INFP', 16)"
      ],
      "metadata": {
        "id": "PGlB7vfcEg9t"
      },
      "execution_count": 7,
      "outputs": []
    },
    {
      "cell_type": "markdown",
      "source": [
        "### Data Visualization"
      ],
      "metadata": {
        "id": "xkqQvmsPysVf"
      }
    },
    {
      "cell_type": "code",
      "source": [
        "df.describe()"
      ],
      "metadata": {
        "colab": {
          "base_uri": "https://localhost:8080/",
          "height": 381
        },
        "id": "qh86dQ-ziimm",
        "outputId": "d38a7bcb-7d3d-46f5-8f83-988877764c8f"
      },
      "execution_count": 8,
      "outputs": [
        {
          "output_type": "execute_result",
          "data": {
            "text/plain": [
              "            S No        AGE     HEIGHT     WEIGHT        SEX  ACTIVITY LEVEL  \\\n",
              "count  97.000000  97.000000  97.000000   97.00000  97.000000       97.000000   \n",
              "mean   49.000000  43.855670  65.731959  159.43299   1.494845        1.298969   \n",
              "std    28.145456  16.776093   3.737522   36.19591   0.502571        0.580319   \n",
              "min     1.000000  11.000000  58.000000   68.00000   1.000000        1.000000   \n",
              "25%    25.000000  30.000000  63.000000  135.00000   1.000000        1.000000   \n",
              "50%    49.000000  45.000000  66.000000  157.00000   1.000000        1.000000   \n",
              "75%    73.000000  56.000000  68.000000  183.00000   2.000000        1.000000   \n",
              "max    97.000000  82.000000  74.000000  263.00000   2.000000        3.000000   \n",
              "\n",
              "          PAIN 1     PAIN 2     PAIN 3     PAIN 4       MBTI          E  \\\n",
              "count  97.000000  97.000000  97.000000  97.000000  97.000000  97.000000   \n",
              "mean    2.139175   3.747423   1.943299   2.530928   8.082474  12.690722   \n",
              "std     2.572635   3.191071   2.587909   3.111483   4.433937   5.717956   \n",
              "min     0.000000   0.000000   0.000000   0.000000   1.000000   2.000000   \n",
              "25%     0.000000   0.000000   0.000000   0.000000   4.000000   8.000000   \n",
              "50%     1.000000   3.000000   0.500000   0.000000   9.000000  13.000000   \n",
              "75%     4.000000   7.000000   3.500000   5.000000  12.000000  18.000000   \n",
              "max     9.500000  10.000000  10.000000  10.000000  16.000000  21.000000   \n",
              "\n",
              "               I          S          N          T          F          J  \\\n",
              "count  97.000000  97.000000  97.000000  97.000000  97.000000  97.000000   \n",
              "mean    8.288660  15.134021  11.041237  10.505155  13.443299  10.319588   \n",
              "std     5.697146   4.833970   4.732242   5.332924   5.297344   5.727395   \n",
              "min     0.000000   5.000000   1.000000   0.000000   2.000000   0.000000   \n",
              "25%     3.000000  12.000000   7.000000   6.000000  10.000000   5.000000   \n",
              "50%     8.000000  15.000000  11.000000  11.000000  13.000000  11.000000   \n",
              "75%    13.000000  19.000000  14.000000  14.000000  18.000000  16.000000   \n",
              "max    19.000000  25.000000  21.000000  22.000000  24.000000  20.000000   \n",
              "\n",
              "               P    POSTURE  \n",
              "count  97.000000  97.000000  \n",
              "mean   11.680412   2.381443  \n",
              "std     5.711003   1.055179  \n",
              "min     2.000000   1.000000  \n",
              "25%     6.000000   2.000000  \n",
              "50%    11.000000   2.000000  \n",
              "75%    17.000000   3.000000  \n",
              "max    22.000000   4.000000  "
            ],
            "text/html": [
              "\n",
              "  <div id=\"df-e9ed37ed-6609-40d0-ba31-55a4364b549a\">\n",
              "    <div class=\"colab-df-container\">\n",
              "      <div>\n",
              "<style scoped>\n",
              "    .dataframe tbody tr th:only-of-type {\n",
              "        vertical-align: middle;\n",
              "    }\n",
              "\n",
              "    .dataframe tbody tr th {\n",
              "        vertical-align: top;\n",
              "    }\n",
              "\n",
              "    .dataframe thead th {\n",
              "        text-align: right;\n",
              "    }\n",
              "</style>\n",
              "<table border=\"1\" class=\"dataframe\">\n",
              "  <thead>\n",
              "    <tr style=\"text-align: right;\">\n",
              "      <th></th>\n",
              "      <th>S No</th>\n",
              "      <th>AGE</th>\n",
              "      <th>HEIGHT</th>\n",
              "      <th>WEIGHT</th>\n",
              "      <th>SEX</th>\n",
              "      <th>ACTIVITY LEVEL</th>\n",
              "      <th>PAIN 1</th>\n",
              "      <th>PAIN 2</th>\n",
              "      <th>PAIN 3</th>\n",
              "      <th>PAIN 4</th>\n",
              "      <th>MBTI</th>\n",
              "      <th>E</th>\n",
              "      <th>I</th>\n",
              "      <th>S</th>\n",
              "      <th>N</th>\n",
              "      <th>T</th>\n",
              "      <th>F</th>\n",
              "      <th>J</th>\n",
              "      <th>P</th>\n",
              "      <th>POSTURE</th>\n",
              "    </tr>\n",
              "  </thead>\n",
              "  <tbody>\n",
              "    <tr>\n",
              "      <th>count</th>\n",
              "      <td>97.000000</td>\n",
              "      <td>97.000000</td>\n",
              "      <td>97.000000</td>\n",
              "      <td>97.00000</td>\n",
              "      <td>97.000000</td>\n",
              "      <td>97.000000</td>\n",
              "      <td>97.000000</td>\n",
              "      <td>97.000000</td>\n",
              "      <td>97.000000</td>\n",
              "      <td>97.000000</td>\n",
              "      <td>97.000000</td>\n",
              "      <td>97.000000</td>\n",
              "      <td>97.000000</td>\n",
              "      <td>97.000000</td>\n",
              "      <td>97.000000</td>\n",
              "      <td>97.000000</td>\n",
              "      <td>97.000000</td>\n",
              "      <td>97.000000</td>\n",
              "      <td>97.000000</td>\n",
              "      <td>97.000000</td>\n",
              "    </tr>\n",
              "    <tr>\n",
              "      <th>mean</th>\n",
              "      <td>49.000000</td>\n",
              "      <td>43.855670</td>\n",
              "      <td>65.731959</td>\n",
              "      <td>159.43299</td>\n",
              "      <td>1.494845</td>\n",
              "      <td>1.298969</td>\n",
              "      <td>2.139175</td>\n",
              "      <td>3.747423</td>\n",
              "      <td>1.943299</td>\n",
              "      <td>2.530928</td>\n",
              "      <td>8.082474</td>\n",
              "      <td>12.690722</td>\n",
              "      <td>8.288660</td>\n",
              "      <td>15.134021</td>\n",
              "      <td>11.041237</td>\n",
              "      <td>10.505155</td>\n",
              "      <td>13.443299</td>\n",
              "      <td>10.319588</td>\n",
              "      <td>11.680412</td>\n",
              "      <td>2.381443</td>\n",
              "    </tr>\n",
              "    <tr>\n",
              "      <th>std</th>\n",
              "      <td>28.145456</td>\n",
              "      <td>16.776093</td>\n",
              "      <td>3.737522</td>\n",
              "      <td>36.19591</td>\n",
              "      <td>0.502571</td>\n",
              "      <td>0.580319</td>\n",
              "      <td>2.572635</td>\n",
              "      <td>3.191071</td>\n",
              "      <td>2.587909</td>\n",
              "      <td>3.111483</td>\n",
              "      <td>4.433937</td>\n",
              "      <td>5.717956</td>\n",
              "      <td>5.697146</td>\n",
              "      <td>4.833970</td>\n",
              "      <td>4.732242</td>\n",
              "      <td>5.332924</td>\n",
              "      <td>5.297344</td>\n",
              "      <td>5.727395</td>\n",
              "      <td>5.711003</td>\n",
              "      <td>1.055179</td>\n",
              "    </tr>\n",
              "    <tr>\n",
              "      <th>min</th>\n",
              "      <td>1.000000</td>\n",
              "      <td>11.000000</td>\n",
              "      <td>58.000000</td>\n",
              "      <td>68.00000</td>\n",
              "      <td>1.000000</td>\n",
              "      <td>1.000000</td>\n",
              "      <td>0.000000</td>\n",
              "      <td>0.000000</td>\n",
              "      <td>0.000000</td>\n",
              "      <td>0.000000</td>\n",
              "      <td>1.000000</td>\n",
              "      <td>2.000000</td>\n",
              "      <td>0.000000</td>\n",
              "      <td>5.000000</td>\n",
              "      <td>1.000000</td>\n",
              "      <td>0.000000</td>\n",
              "      <td>2.000000</td>\n",
              "      <td>0.000000</td>\n",
              "      <td>2.000000</td>\n",
              "      <td>1.000000</td>\n",
              "    </tr>\n",
              "    <tr>\n",
              "      <th>25%</th>\n",
              "      <td>25.000000</td>\n",
              "      <td>30.000000</td>\n",
              "      <td>63.000000</td>\n",
              "      <td>135.00000</td>\n",
              "      <td>1.000000</td>\n",
              "      <td>1.000000</td>\n",
              "      <td>0.000000</td>\n",
              "      <td>0.000000</td>\n",
              "      <td>0.000000</td>\n",
              "      <td>0.000000</td>\n",
              "      <td>4.000000</td>\n",
              "      <td>8.000000</td>\n",
              "      <td>3.000000</td>\n",
              "      <td>12.000000</td>\n",
              "      <td>7.000000</td>\n",
              "      <td>6.000000</td>\n",
              "      <td>10.000000</td>\n",
              "      <td>5.000000</td>\n",
              "      <td>6.000000</td>\n",
              "      <td>2.000000</td>\n",
              "    </tr>\n",
              "    <tr>\n",
              "      <th>50%</th>\n",
              "      <td>49.000000</td>\n",
              "      <td>45.000000</td>\n",
              "      <td>66.000000</td>\n",
              "      <td>157.00000</td>\n",
              "      <td>1.000000</td>\n",
              "      <td>1.000000</td>\n",
              "      <td>1.000000</td>\n",
              "      <td>3.000000</td>\n",
              "      <td>0.500000</td>\n",
              "      <td>0.000000</td>\n",
              "      <td>9.000000</td>\n",
              "      <td>13.000000</td>\n",
              "      <td>8.000000</td>\n",
              "      <td>15.000000</td>\n",
              "      <td>11.000000</td>\n",
              "      <td>11.000000</td>\n",
              "      <td>13.000000</td>\n",
              "      <td>11.000000</td>\n",
              "      <td>11.000000</td>\n",
              "      <td>2.000000</td>\n",
              "    </tr>\n",
              "    <tr>\n",
              "      <th>75%</th>\n",
              "      <td>73.000000</td>\n",
              "      <td>56.000000</td>\n",
              "      <td>68.000000</td>\n",
              "      <td>183.00000</td>\n",
              "      <td>2.000000</td>\n",
              "      <td>1.000000</td>\n",
              "      <td>4.000000</td>\n",
              "      <td>7.000000</td>\n",
              "      <td>3.500000</td>\n",
              "      <td>5.000000</td>\n",
              "      <td>12.000000</td>\n",
              "      <td>18.000000</td>\n",
              "      <td>13.000000</td>\n",
              "      <td>19.000000</td>\n",
              "      <td>14.000000</td>\n",
              "      <td>14.000000</td>\n",
              "      <td>18.000000</td>\n",
              "      <td>16.000000</td>\n",
              "      <td>17.000000</td>\n",
              "      <td>3.000000</td>\n",
              "    </tr>\n",
              "    <tr>\n",
              "      <th>max</th>\n",
              "      <td>97.000000</td>\n",
              "      <td>82.000000</td>\n",
              "      <td>74.000000</td>\n",
              "      <td>263.00000</td>\n",
              "      <td>2.000000</td>\n",
              "      <td>3.000000</td>\n",
              "      <td>9.500000</td>\n",
              "      <td>10.000000</td>\n",
              "      <td>10.000000</td>\n",
              "      <td>10.000000</td>\n",
              "      <td>16.000000</td>\n",
              "      <td>21.000000</td>\n",
              "      <td>19.000000</td>\n",
              "      <td>25.000000</td>\n",
              "      <td>21.000000</td>\n",
              "      <td>22.000000</td>\n",
              "      <td>24.000000</td>\n",
              "      <td>20.000000</td>\n",
              "      <td>22.000000</td>\n",
              "      <td>4.000000</td>\n",
              "    </tr>\n",
              "  </tbody>\n",
              "</table>\n",
              "</div>\n",
              "      <button class=\"colab-df-convert\" onclick=\"convertToInteractive('df-e9ed37ed-6609-40d0-ba31-55a4364b549a')\"\n",
              "              title=\"Convert this dataframe to an interactive table.\"\n",
              "              style=\"display:none;\">\n",
              "        \n",
              "  <svg xmlns=\"http://www.w3.org/2000/svg\" height=\"24px\"viewBox=\"0 0 24 24\"\n",
              "       width=\"24px\">\n",
              "    <path d=\"M0 0h24v24H0V0z\" fill=\"none\"/>\n",
              "    <path d=\"M18.56 5.44l.94 2.06.94-2.06 2.06-.94-2.06-.94-.94-2.06-.94 2.06-2.06.94zm-11 1L8.5 8.5l.94-2.06 2.06-.94-2.06-.94L8.5 2.5l-.94 2.06-2.06.94zm10 10l.94 2.06.94-2.06 2.06-.94-2.06-.94-.94-2.06-.94 2.06-2.06.94z\"/><path d=\"M17.41 7.96l-1.37-1.37c-.4-.4-.92-.59-1.43-.59-.52 0-1.04.2-1.43.59L10.3 9.45l-7.72 7.72c-.78.78-.78 2.05 0 2.83L4 21.41c.39.39.9.59 1.41.59.51 0 1.02-.2 1.41-.59l7.78-7.78 2.81-2.81c.8-.78.8-2.07 0-2.86zM5.41 20L4 18.59l7.72-7.72 1.47 1.35L5.41 20z\"/>\n",
              "  </svg>\n",
              "      </button>\n",
              "      \n",
              "  <style>\n",
              "    .colab-df-container {\n",
              "      display:flex;\n",
              "      flex-wrap:wrap;\n",
              "      gap: 12px;\n",
              "    }\n",
              "\n",
              "    .colab-df-convert {\n",
              "      background-color: #E8F0FE;\n",
              "      border: none;\n",
              "      border-radius: 50%;\n",
              "      cursor: pointer;\n",
              "      display: none;\n",
              "      fill: #1967D2;\n",
              "      height: 32px;\n",
              "      padding: 0 0 0 0;\n",
              "      width: 32px;\n",
              "    }\n",
              "\n",
              "    .colab-df-convert:hover {\n",
              "      background-color: #E2EBFA;\n",
              "      box-shadow: 0px 1px 2px rgba(60, 64, 67, 0.3), 0px 1px 3px 1px rgba(60, 64, 67, 0.15);\n",
              "      fill: #174EA6;\n",
              "    }\n",
              "\n",
              "    [theme=dark] .colab-df-convert {\n",
              "      background-color: #3B4455;\n",
              "      fill: #D2E3FC;\n",
              "    }\n",
              "\n",
              "    [theme=dark] .colab-df-convert:hover {\n",
              "      background-color: #434B5C;\n",
              "      box-shadow: 0px 1px 3px 1px rgba(0, 0, 0, 0.15);\n",
              "      filter: drop-shadow(0px 1px 2px rgba(0, 0, 0, 0.3));\n",
              "      fill: #FFFFFF;\n",
              "    }\n",
              "  </style>\n",
              "\n",
              "      <script>\n",
              "        const buttonEl =\n",
              "          document.querySelector('#df-e9ed37ed-6609-40d0-ba31-55a4364b549a button.colab-df-convert');\n",
              "        buttonEl.style.display =\n",
              "          google.colab.kernel.accessAllowed ? 'block' : 'none';\n",
              "\n",
              "        async function convertToInteractive(key) {\n",
              "          const element = document.querySelector('#df-e9ed37ed-6609-40d0-ba31-55a4364b549a');\n",
              "          const dataTable =\n",
              "            await google.colab.kernel.invokeFunction('convertToInteractive',\n",
              "                                                     [key], {});\n",
              "          if (!dataTable) return;\n",
              "\n",
              "          const docLinkHtml = 'Like what you see? Visit the ' +\n",
              "            '<a target=\"_blank\" href=https://colab.research.google.com/notebooks/data_table.ipynb>data table notebook</a>'\n",
              "            + ' to learn more about interactive tables.';\n",
              "          element.innerHTML = '';\n",
              "          dataTable['output_type'] = 'display_data';\n",
              "          await google.colab.output.renderOutput(dataTable, element);\n",
              "          const docLink = document.createElement('div');\n",
              "          docLink.innerHTML = docLinkHtml;\n",
              "          element.appendChild(docLink);\n",
              "        }\n",
              "      </script>\n",
              "    </div>\n",
              "  </div>\n",
              "  "
            ]
          },
          "metadata": {},
          "execution_count": 8
        }
      ]
    },
    {
      "cell_type": "code",
      "source": [
        "df[['S No', 'AGE', 'HEIGHT', 'WEIGHT', 'SEX', 'ACTIVITY LEVEL', 'PAIN 1', 'PAIN 2', 'PAIN 3', 'PAIN 4', 'MBTI', 'E', 'I', 'S', 'N', 'T', 'F', 'J', 'P']].hist(figsize = (14, 18), bins = 16, linewidth = 1, edgecolor = 'k', grid = False)\n",
        "plt.show()"
      ],
      "metadata": {
        "colab": {
          "base_uri": "https://localhost:8080/",
          "height": 1000
        },
        "id": "5QvTkzYbjtKO",
        "outputId": "ed6b76f9-7533-4609-e7da-6101ed50350a"
      },
      "execution_count": 9,
      "outputs": [
        {
          "output_type": "display_data",
          "data": {
            "text/plain": [
              "<Figure size 1008x1296 with 20 Axes>"
            ],
            "image/png": "[encoded data removed]"
          },
          "metadata": {
            "needs_background": "light"
          }
        }
      ]
    },
    {
      "cell_type": "markdown",
      "source": [
        "### Training"
      ],
      "metadata": {
        "id": "EV96wjLxxqWx"
      }
    },
    {
      "cell_type": "markdown",
      "source": [
        "This will scale the data so the entries will be enough for the model to do its work"
      ],
      "metadata": {
        "id": "lXoilfQs1IF-"
      }
    },
    {
      "cell_type": "code",
      "source": [
        "from sklearn.preprocessing import MinMaxScaler\n",
        "independent_variable = df.drop(['POSTURE'], axis = 1)\n",
        "\n",
        "\n",
        "scaler = MinMaxScaler()\n",
        "independent_variable = scaler.fit_transform(independent_variable)\n",
        "dependent_variable = df['POSTURE']"
      ],
      "metadata": {
        "id": "gkh1FpeNzTjA"
      },
      "execution_count": 10,
      "outputs": []
    },
    {
      "cell_type": "code",
      "source": [
        "#This command will split the data into training and testing data with the size of 20 percent on each.\n",
        "from sklearn.model_selection import train_test_split\n",
        "\n",
        "\n",
        "\n",
        "x_train, x_test, y_train, y_test = train_test_split(independent_variable, dependent_variable, test_size = 0.1, random_state = 1)\n",
        "\n"
      ],
      "metadata": {
        "id": "_hkWUR6xE55w"
      },
      "execution_count": 11,
      "outputs": []
    },
    {
      "cell_type": "code",
      "source": [
        "from sklearn.neighbors import KNeighborsClassifier\n",
        "\n",
        "knn = KNeighborsClassifier(n_neighbors = 1)\n",
        "knn.fit(x_train, y_train)\n",
        "knn.get_params()"
      ],
      "metadata": {
        "colab": {
          "base_uri": "https://localhost:8080/"
        },
        "id": "0Z1g4isMGAKd",
        "outputId": "e29d8a65-480a-4e80-b34a-6b22d05feb82"
      },
      "execution_count": 12,
      "outputs": [
        {
          "output_type": "execute_result",
          "data": {
            "text/plain": [
              "{'algorithm': 'auto',\n",
              " 'leaf_size': 30,\n",
              " 'metric': 'minkowski',\n",
              " 'metric_params': None,\n",
              " 'n_jobs': None,\n",
              " 'n_neighbors': 1,\n",
              " 'p': 2,\n",
              " 'weights': 'uniform'}"
            ]
          },
          "metadata": {},
          "execution_count": 12
        }
      ]
    },
    {
      "cell_type": "code",
      "source": [
        "y_pred = knn.predict(x_test)"
      ],
      "metadata": {
        "id": "WOlyDwMSNK86"
      },
      "execution_count": 13,
      "outputs": []
    },
    {
      "cell_type": "code",
      "source": [
        "from sklearn.metrics import classification_report, confusion_matrix, accuracy_score\n",
        "\n",
        "print(classification_report(y_test, y_pred))\n",
        "print(confusion_matrix(y_test, y_pred))\n",
        "\n"
      ],
      "metadata": {
        "colab": {
          "base_uri": "https://localhost:8080/"
        },
        "id": "kjQDZZaKNEkT",
        "outputId": "4d555b4d-889a-4da1-ac65-62e6ee37fb5e"
      },
      "execution_count": 14,
      "outputs": [
        {
          "output_type": "stream",
          "name": "stdout",
          "text": [
            "              precision    recall  f1-score   support\n",
            "\n",
            "           1       0.50      0.50      0.50         2\n",
            "           2       0.20      0.33      0.25         3\n",
            "           3       1.00      0.50      0.67         4\n",
            "           4       0.00      0.00      0.00         1\n",
            "\n",
            "    accuracy                           0.40        10\n",
            "   macro avg       0.42      0.33      0.35        10\n",
            "weighted avg       0.56      0.40      0.44        10\n",
            "\n",
            "[[1 1 0 0]\n",
            " [1 1 0 1]\n",
            " [0 2 2 0]\n",
            " [0 1 0 0]]\n"
          ]
        }
      ]
    },
    {
      "cell_type": "markdown",
      "source": [
        "After testing different amounts of clusters 40 percent accuracy was the best correlation I could get after adjusting n_neighbors."
      ],
      "metadata": {
        "id": "CfegTHXjmQJg"
      }
    },
    {
      "cell_type": "code",
      "source": [
        "from sklearn.metrics import accuracy_score\n",
        "\n",
        "accuracy_score = accuracy_score(y_test, y_pred)\n",
        "print(accuracy_score)"
      ],
      "metadata": {
        "colab": {
          "base_uri": "https://localhost:8080/"
        },
        "id": "HUxeTwXZ91KP",
        "outputId": "e6ef332b-2332-416b-a370-5eab74f858e0"
      },
      "execution_count": 15,
      "outputs": [
        {
          "output_type": "stream",
          "name": "stdout",
          "text": [
            "0.4\n"
          ]
        }
      ]
    },
    {
      "cell_type": "markdown",
      "source": [
        "### Support Vector Machines"
      ],
      "metadata": {
        "id": "xM5joUyP4FoO"
      }
    }
  ]
}